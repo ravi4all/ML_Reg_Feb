{
 "cells": [
  {
   "cell_type": "code",
   "execution_count": 1,
   "metadata": {
    "collapsed": true
   },
   "outputs": [],
   "source": [
    "import numpy as np\n",
    "import pandas as pd\n",
    "import matplotlib.pyplot as plt\n",
    "%matplotlib inline"
   ]
  },
  {
   "cell_type": "code",
   "execution_count": 2,
   "metadata": {
    "collapsed": true
   },
   "outputs": [],
   "source": [
    "population_ages = [22, 55, 30, 15, 35, 40, 90, 25, 38, 48,  50, 67, 88, 55, 30, 15, 35, 40, 90, 25, 38, 48,  50, 67, 88]\n",
    "\n",
    "bins = [1,10,20,30,40,50,60,70,80,90,100]"
   ]
  },
  {
   "cell_type": "code",
   "execution_count": 14,
   "metadata": {},
   "outputs": [
    {
     "data": {
      "text/plain": [
       "<matplotlib.text.Text at 0x1879a1afdd8>"
      ]
     },
     "execution_count": 14,
     "metadata": {},
     "output_type": "execute_result"
    },
    {
     "data": {
      "image/png": "[encoded data removed]",
      "text/plain": [
       "<matplotlib.figure.Figure at 0x187990b7e80>"
      ]
     },
     "metadata": {},
     "output_type": "display_data"
    }
   ],
   "source": [
    "plt.hist(population_ages, bins, rwidth=0.8)\n",
    "\n",
    "plt.xlabel('X-Axis')\n",
    "plt.ylabel('Y-Axis')\n",
    "plt.title('Bar graph & Histogram')\n"
   ]
  },
  {
   "cell_type": "code",
   "execution_count": 15,
   "metadata": {
    "collapsed": true
   },
   "outputs": [],
   "source": [
    "days = [1,2,3,4,5]\n",
    "\n",
    "sleeping = [7,8,6,11,7]\n",
    "eating = [2,3,4,3,2]\n",
    "working = [7,8,7,2,2]\n",
    "playing = [8,5,7,8,13]\n",
    "\n",
    "\n",
    "slices = [7,2,2,13]\n",
    "activities = ['sleeping', 'eating', 'working', 'playing']\n",
    "\n",
    "colors = ['r','m','c','b']"
   ]
  },
  {
   "cell_type": "code",
   "execution_count": 31,
   "metadata": {},
   "outputs": [
    {
     "data": {
      "text/plain": [
       "([<matplotlib.patches.Wedge at 0x1879a866668>,\n",
       "  <matplotlib.patches.Wedge at 0x1879a86cf60>,\n",
       "  <matplotlib.patches.Wedge at 0x1879a87a860>,\n",
       "  <matplotlib.patches.Wedge at 0x1879a888160>],\n",
       " [<matplotlib.text.Text at 0x1879a86c4a8>,\n",
       "  <matplotlib.text.Text at 0x1879a874d68>,\n",
       "  <matplotlib.text.Text at 0x1879a881668>,\n",
       "  <matplotlib.text.Text at 0x1879a888f28>],\n",
       " [<matplotlib.text.Text at 0x1879a86ca20>,\n",
       "  <matplotlib.text.Text at 0x1879a87a320>,\n",
       "  <matplotlib.text.Text at 0x1879a881be0>,\n",
       "  <matplotlib.text.Text at 0x1879a88e4e0>])"
      ]
     },
     "execution_count": 31,
     "metadata": {},
     "output_type": "execute_result"
    },
    {
     "data": {
      "image/png": "[encoded data removed]",
      "text/plain": [
       "<matplotlib.figure.Figure at 0x1879a79e320>"
      ]
     },
     "metadata": {},
     "output_type": "display_data"
    }
   ],
   "source": [
    "plt.pie(slices, \n",
    "        colors=colors,\n",
    "        labels=activities,\n",
    "        startangle=90,\n",
    "        autopct='%1.1f%%',\n",
    "        shadow=True,\n",
    "        explode = (0,0.1,0,0)\n",
    "        )"
   ]
  },
  {
   "cell_type": "code",
   "execution_count": null,
   "metadata": {
    "collapsed": true
   },
   "outputs": [],
   "source": []
  }
 ],
 "metadata": {
  "kernelspec": {
   "display_name": "Python 3",
   "language": "python",
   "name": "python3"
  },
  "language_info": {
   "codemirror_mode": {
    "name": "ipython",
    "version": 3
   },
   "file_extension": ".py",
   "mimetype": "text/x-python",
   "name": "python",
   "nbconvert_exporter": "python",
   "pygments_lexer": "ipython3",
   "version": "3.5.4"
  }
 },
 "nbformat": 4,
 "nbformat_minor": 2
}
