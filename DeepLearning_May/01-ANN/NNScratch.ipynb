{
 "cells": [
  {
   "cell_type": "code",
   "execution_count": 1,
   "metadata": {
    "collapsed": true
   },
   "outputs": [],
   "source": [
    "import numpy as np"
   ]
  },
  {
   "cell_type": "code",
   "execution_count": 2,
   "metadata": {
    "collapsed": true
   },
   "outputs": [],
   "source": [
    "X = np.array([[1,0,1,0],[1,0,1,1],[0,1,0,1]])\n",
    "y = np.array([[1],[1],[0]])"
   ]
  },
  {
   "cell_type": "code",
   "execution_count": 3,
   "metadata": {
    "collapsed": true
   },
   "outputs": [],
   "source": [
    "def sigmoid(x):\n",
    "    return 1 / (1 + np.exp(-x))"
   ]
  },
  {
   "cell_type": "code",
   "execution_count": 4,
   "metadata": {
    "collapsed": true
   },
   "outputs": [],
   "source": [
    "def d_sigmoid(x):\n",
    "    return x * (1 - x)"
   ]
  },
  {
   "cell_type": "code",
   "execution_count": 5,
   "metadata": {
    "collapsed": true
   },
   "outputs": [],
   "source": [
    "epoch = 10000\n",
    "learning_rate = 0.1\n",
    "input_layer = X.shape[1]\n",
    "hidden_layer_neurons = 3\n",
    "output_neuron = 1"
   ]
  },
  {
   "cell_type": "code",
   "execution_count": 6,
   "metadata": {
    "collapsed": true
   },
   "outputs": [],
   "source": [
    "wh = np.random.uniform(size = (input_layer, hidden_layer_neurons))\n",
    "bh = np.random.uniform(size = (1,hidden_layer_neurons))\n",
    "wout = np.random.uniform(size = (hidden_layer_neurons, output_neuron))\n",
    "bout = np.random.uniform(size = (1,output_neuron))"
   ]
  },
  {
   "cell_type": "code",
   "execution_count": 7,
   "metadata": {
    "collapsed": true
   },
   "outputs": [],
   "source": [
    "for i in range(epoch):\n",
    "    # Forward propagation\n",
    "    hidden_input_layer = np.dot(X,wh) + bh\n",
    "    hidden_layer_activation = sigmoid(hidden_input_layer)\n",
    "    \n",
    "    output_layer = np.dot(hidden_layer_activation, wout) + bout\n",
    "    output = sigmoid(output_layer)\n",
    "    \n",
    "    # Backpropagation\n",
    "    E = y - output\n",
    "    slope_output_layer = d_sigmoid(output)\n",
    "    slope_hidden_layer = d_sigmoid(hidden_layer_activation)\n",
    "    \n",
    "    d_output = E * slope_output_layer\n",
    "    err_at_hidden_layer = np.dot(d_output,wout.T)\n",
    "    d_hidden_layer = err_at_hidden_layer * slope_hidden_layer\n",
    "    \n",
    "    wout += hidden_layer_activation.T.dot(d_output) * learning_rate\n",
    "    bout += np.sum(d_output, axis=0, keepdims=True) * learning_rate\n",
    "    wh += X.T.dot(d_hidden_layer) * learning_rate\n",
    "    bh += np.sum(d_hidden_layer, axis=0, keepdims=True) * learning_rate"
   ]
  },
  {
   "cell_type": "code",
   "execution_count": 8,
   "metadata": {},
   "outputs": [
    {
     "name": "stdout",
     "output_type": "stream",
     "text": [
      "[[ 0.99116146]\n",
      " [ 0.98234703]\n",
      " [ 0.02435371]]\n"
     ]
    }
   ],
   "source": [
    "print(output)"
   ]
  },
  {
   "cell_type": "code",
   "execution_count": null,
   "metadata": {
    "collapsed": true
   },
   "outputs": [],
   "source": []
  }
 ],
 "metadata": {
  "kernelspec": {
   "display_name": "Python 3",
   "language": "python",
   "name": "python3"
  },
  "language_info": {
   "codemirror_mode": {
    "name": "ipython",
    "version": 3
   },
   "file_extension": ".py",
   "mimetype": "text/x-python",
   "name": "python",
   "nbconvert_exporter": "python",
   "pygments_lexer": "ipython3",
   "version": "3.5.4"
  }
 },
 "nbformat": 4,
 "nbformat_minor": 2
}
